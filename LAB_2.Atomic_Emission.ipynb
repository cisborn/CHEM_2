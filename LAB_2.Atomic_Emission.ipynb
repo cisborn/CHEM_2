{
 "cells": [
  {
   "cell_type": "markdown",
   "id": "f806aebe-6c11-49ee-bb7f-63cf1bfd3f1e",
   "metadata": {},
   "source": [
    "# Lab 2: Atomic Emission Spectrocopy"
   ]
  },
  {
   "cell_type": "markdown",
   "id": "1834f463-0707-4719-94ad-32453337c349",
   "metadata": {},
   "source": [
    "In this lab, you will measuring emission wavelengths, converting to frequencies, then making a best fit line within the Balmer series of transitions to determine the Rydberg constant. This constant will allow you to determine the energy of the orbitals involved in the electronic transition. \n",
    "\n",
    "We will be reading in data from a file and then making a best fit line. For your lab reports, you would need to use your own data that you collect during lab. If you want to use the same file name as is used here, store your emission wavelength data in LAB_2.H_emission_wavelengths.txt. Below, there is some code that you will need to modify to get the correct results for converting from wavelength to frequency, and for getting the Balmer series. The text will tell you where you need to change the code. \n",
    "\n",
    "First, load some of the python libraries.  This will help us with some calculations and making plots. "
   ]
  },
  {
   "cell_type": "code",
   "execution_count": 11,
   "id": "e5a4c64d-ed33-4c41-9bb3-03a912c81006",
   "metadata": {},
   "outputs": [],
   "source": [
    "import numpy\n",
    "import scipy\n",
    "import matplotlib.pyplot as plt\n",
    "from scipy import stats"
   ]
  },
  {
   "cell_type": "markdown",
   "id": "386b35d9-c264-4a87-aea5-4bdd7cc780c9",
   "metadata": {},
   "source": [
    "Our calculations will need some constants. It is good coding practice to define these at the beginning of your code. Look at the code to see how multiplication and exponents work in python. You will need to know this to set up the correct equations later in the code. "
   ]
  },
  {
   "cell_type": "code",
   "execution_count": 1,
   "id": "70d2e078-28f1-4c3c-8072-6b1e69965632",
   "metadata": {},
   "outputs": [],
   "source": [
    "\n",
    "# Constants we need for our calculations\n",
    "# These also provide an example of how multiplication and exponents work in Python\n",
    "c = 2.9979 * 10 ** 8 # speed of light in m/s \n",
    "h = 6.6261 * 10 ** -34  # Planck's constant in J*s  \n",
    "mol = 6.0221 * 10 ** 23  # Avogradro's number"
   ]
  },
  {
   "cell_type": "code",
   "execution_count": 5,
   "id": "fdf6c0c5-4083-4bda-a676-0d54761d7422",
   "metadata": {},
   "outputs": [
    {
     "name": "stdout",
     "output_type": "stream",
     "text": [
      "\n",
      " HYDROGEN EMISSION CALCULATIONS AND PLOT \n",
      "\n"
     ]
    }
   ],
   "source": [
    "#### HYDROGEN EMISSION CALCULATIONS AND PLOT\n",
    "print(\"\\n HYDROGEN EMISSION CALCULATIONS AND PLOT \\n\")"
   ]
  },
  {
   "cell_type": "markdown",
   "id": "2d4ff805-1ecd-4038-b5dd-832769167fc0",
   "metadata": {},
   "source": [
    "When we are making plots, we will be storing multiple data points in an array. So first we will set up some empty arrays that we will populate with data that you collected during lab.  It is good practice to name your arrays according to the data that you have.\n",
    "\n"
   ]
  },
  {
   "cell_type": "code",
   "execution_count": 2,
   "id": "b1062ae0-0a78-45d8-8c35-e556bce5dfc5",
   "metadata": {},
   "outputs": [],
   "source": [
    "# Set up empty arrays that we will populate with our measured data\n",
    "wavelengths = [] \n",
    "frequencies = []"
   ]
  },
  {
   "cell_type": "markdown",
   "id": "253b3aaf-8667-4965-90d7-fbbd61bbe2da",
   "metadata": {},
   "source": [
    "Next, you will read in the data from a text file. You will need to specify the name of the file, as well as how you have separated/delimited your values (e.g. are the values separated by spaces or commas?). You can skip initial lines of text that will be headers for your data.  If you are curious about this function call, you can search for numpy.genfromtxt to find out more information about how it works."
   ]
  },
  {
   "cell_type": "code",
   "execution_count": 4,
   "id": "59e69e9b-3e5e-45a3-9c2d-4f99915a9309",
   "metadata": {},
   "outputs": [],
   "source": [
    "# Read in the wavelengths from the txt file \n",
    "H_atom_file = ('LAB_2.H_emission_wavelengths.txt')  \n",
    "outfile = open(H_atom_file,\"r\")\n",
    "data = outfile.readlines()\n",
    "outfile.close()"
   ]
  },
  {
   "cell_type": "markdown",
   "id": "fefd55d6-c4ce-4bdf-86b8-134526fab29d",
   "metadata": {},
   "source": [
    "Now we need to convert wavelength to frequencies.  The equation below is incorrect and just a placeholder. Modify the code to do the correct conversion (also make sure that you convert wavelength nm to m!). "
   ]
  },
  {
   "cell_type": "code",
   "execution_count": 5,
   "id": "d1e73701-f254-44dd-bac9-810f54fa647e",
   "metadata": {},
   "outputs": [],
   "source": [
    "# Convert wavelength to frequencies\n",
    "for value in data: \n",
    "    wavelength = float(value)\n",
    "    wavelengths.append(wavelength)\n",
    "    # set up the equation to convert wavelengths to frequency (also wavelength nm to m!), below is just a placeholder\n",
    "    frequency = wavelength\n",
    "    frequencies.append(frequency) "
   ]
  },
  {
   "cell_type": "markdown",
   "id": "6458f511-d734-477d-a8d1-234133a7e017",
   "metadata": {},
   "source": [
    "Check your data by printing out the values for both the wavelength and the frequency arrays. "
   ]
  },
  {
   "cell_type": "code",
   "execution_count": 6,
   "id": "274ddc28-518b-4e9e-a5b0-d4b751f70e42",
   "metadata": {},
   "outputs": [
    {
     "name": "stdout",
     "output_type": "stream",
     "text": [
      "[657.0, 486.0, 434.0, 410.0]\n",
      "[657.0, 486.0, 434.0, 410.0]\n"
     ]
    }
   ],
   "source": [
    "print(wavelengths)\n",
    "print(frequencies)\n",
    "#for value in frequencies: \n",
    "#    print(\"%10.4E\" % (value))"
   ]
  },
  {
   "cell_type": "markdown",
   "id": "5e6170c4-7ff0-4d11-9400-6e9a3d15965e",
   "metadata": {},
   "source": [
    "Does the data seem correct? If not, you might need to fix your code and rerun it. If yes, then next, set up Balmer series for the x-axis of your plot. The equation below is incorrect and you should fix it!\n",
    "The Balmer series includes transitions to n=2, starting at n=3"
   ]
  },
  {
   "cell_type": "code",
   "execution_count": 7,
   "id": "c207fd5a-1be3-4d8e-99f1-c7d3548eebcf",
   "metadata": {},
   "outputs": [
    {
     "name": "stdout",
     "output_type": "stream",
     "text": [
      "3\n",
      "4\n",
      "5\n",
      "6\n",
      "7\n",
      "8\n",
      "9\n",
      "10\n"
     ]
    }
   ],
   "source": [
    "Balmer_gaps = []\n",
    "for i in range(3,len(wavelengths)+3):\n",
    "    print(i)\n",
    "    Balmer_gap = i ** 2\n",
    "    Balmer_gaps.append(Balmer_gap)"
   ]
  },
  {
   "cell_type": "code",
   "execution_count": 8,
   "id": "f2aaecca-4961-4d7d-94cf-e180fe63b317",
   "metadata": {},
   "outputs": [
    {
     "name": "stdout",
     "output_type": "stream",
     "text": [
      "[9, 16, 25, 36, 49, 64, 81, 100]\n"
     ]
    }
   ],
   "source": [
    "print(Balmer_gaps)\n",
    "#for value in Balmer_gaps: \n",
    "#    print(\"%1.5f\" % (value))"
   ]
  },
  {
   "cell_type": "raw",
   "id": "f0dec435-bc68-4590-9558-0dc1ffc5c4f0",
   "metadata": {},
   "source": [
    "Now, again print out the wavelengths and frequencies, making sure that this is the correct frequency data for the best fit line. "
   ]
  },
  {
   "cell_type": "code",
   "execution_count": 7,
   "id": "f3f31f55-6118-4dca-af11-90f3a98492ca",
   "metadata": {},
   "outputs": [
    {
     "name": "stdout",
     "output_type": "stream",
     "text": [
      "Wavelength(nm), Frequency(Hz)\n",
      "    657.00, 6.5700e+02\n",
      "    486.00, 4.8600e+02\n",
      "    434.00, 4.3400e+02\n",
      "    410.00, 4.1000e+02\n"
     ]
    }
   ],
   "source": [
    "print(\"Wavelength(nm), Frequency(Hz)\")\n",
    "for i in range(0,len(wavelengths)):\n",
    "    print(\"%10.2f, %10.4e\" % (wavelengths[i], frequencies[i]))"
   ]
  },
  {
   "cell_type": "markdown",
   "id": "1fb82d22-68ae-4041-ac8d-b5fc4b4d7fee",
   "metadata": {},
   "source": [
    "Now we do a linear regression to make a best fit line, just like in the practice Intro lab. "
   ]
  },
  {
   "cell_type": "code",
   "execution_count": 12,
   "id": "f93ae50c-a349-4219-b9b5-a4eaa64e13f4",
   "metadata": {},
   "outputs": [
    {
     "name": "stdout",
     "output_type": "stream",
     "text": [
      "\n",
      "Determining best fit line... \n",
      "\n",
      "R-squared: 0.185246\n",
      "Slope: -1.378337e+00\n",
      "y = -1.3783e+00 x\n"
     ]
    }
   ],
   "source": [
    "print(\"\\nDetermining best fit line... \\n\")\n",
    "# Use linear regression to determine the best fit line\n",
    "fit = stats.linregress(Balmer_gaps, frequencies)\n",
    "print(f\"R-squared: {fit.rvalue**2:.6f}\")\n",
    "print(f\"Slope: {fit.slope:.6e}\")\n",
    "R_text = f\"R^2 = {fit.rvalue**2:.4f}\"\n",
    "eqn_text = f\"y = {fit.slope:.4e} x\"\n",
    "print(eqn_text)#$print(f\"Equation of the fit: {fit.slope:.6e}\")\n",
    "#print(fit.slope)\n",
    "#print(fit.intercept)"
   ]
  },
  {
   "cell_type": "markdown",
   "id": "0252d893-812a-4270-ab44-899e638911fb",
   "metadata": {},
   "source": [
    "Think about your values - do the slope and intercept make sense? Next we will use the slope from the fit to determine the fitted values for the plot"
   ]
  },
  {
   "cell_type": "code",
   "execution_count": 13,
   "id": "7c173643-0615-47df-a977-25b7e40d0b3c",
   "metadata": {},
   "outputs": [],
   "source": [
    "# Use slope from the fit to determine the fitted values for the plot\n",
    "fit_Balmer_gaps = []\n",
    "for value in Balmer_gaps:\n",
    "    fit_Balmer_gap = fit.slope * value\n",
    "    fit_Balmer_gaps.append(fit_Balmer_gap)"
   ]
  },
  {
   "cell_type": "markdown",
   "id": "bd27f0d8-2a34-4ca4-89ee-1d3faf6dc1ea",
   "metadata": {},
   "source": [
    "Time to make a plot! You need to make sure your plot has the correct title, x and y axes labels with units as appropriate, and that the location of the text is good. Modify the code below. "
   ]
  },
  {
   "cell_type": "code",
   "execution_count": 14,
   "id": "37d6cda8-0117-42f5-bf59-003595f16b6e",
   "metadata": {},
   "outputs": [
    {
     "data": {
      "image/png": "[encoded data removed]",
      "text/plain": [
       "<Figure size 640x480 with 1 Axes>"
      ]
     },
     "metadata": {},
     "output_type": "display_data"
    }
   ],
   "source": [
    "# Plot your data\n",
    "# Change the text to represent the proper x and y axes values, and change the title\n",
    "plt.figure()\n",
    "plt.xlabel('x-label')\n",
    "plt.ylabel('y-label')\n",
    "plt.title(\"Plot title\")\n",
    "plt.plot(Balmer_gaps,frequencies, 'o', label='measured data')\n",
    "plt.plot(Balmer_gaps,fit_Balmer_gaps, '-', label='best fit line')\n",
    "plt.legend()\n",
    "#adding text inside the plot\n",
    "plt.figtext(0.6, 0.25, eqn_text)\n",
    "plt.figtext(0.6, 0.3, R_text)\n",
    "#plt.show()\n",
    "plt.savefig('LAB_2.H_atom_emission.png')"
   ]
  },
  {
   "cell_type": "markdown",
   "id": "b6f0197a-8685-4f8f-9a04-7522296e6eef",
   "metadata": {},
   "source": [
    "How does the plot look? If you aren't happy with it, modify the code and regenerate the figure. If you are happy with it, then make sure you can save the png or take a screenshot for your report.  Next, we do the same thing with lithium and sodium. You need to put your measured data into the .txt files so the code below can read in the wavelengths. "
   ]
  },
  {
   "cell_type": "code",
   "execution_count": 15,
   "id": "165cf27e-6375-4a2f-b71d-1bd44fb697f1",
   "metadata": {},
   "outputs": [
    {
     "name": "stdout",
     "output_type": "stream",
     "text": [
      "\n",
      " LITHIUM and SODIUM EMISSION CALCULATIONS \n",
      "\n"
     ]
    }
   ],
   "source": [
    "#### LITHIUM and SODIUM EMISSION CALCULATIONS\n",
    "print(\"\\n LITHIUM and SODIUM EMISSION CALCULATIONS \\n\")\n",
    "\n",
    "# Read in the wavelengths from the txt file \n",
    "Li_Na_atom_file = ('LAB_2.Li_Na_emission_wavelengths.txt')\n",
    "outfile = open(Li_Na_atom_file,\"r\")\n",
    "data = outfile.readlines()\n",
    "outfile.close()"
   ]
  },
  {
   "cell_type": "code",
   "execution_count": 16,
   "id": "61bc36c6-297e-474e-be54-a8175a21bf15",
   "metadata": {},
   "outputs": [],
   "source": [
    "# Read in the wavelengths from the txt file \n",
    "Li_Na_atom_file = ('LAB_2.Li_Na_emission_wavelengths.txt')\n",
    "outfile = open(Li_Na_atom_file,\"r\")\n",
    "data = outfile.readlines()\n",
    "outfile.close()"
   ]
  },
  {
   "cell_type": "markdown",
   "id": "19f8d479-5ba8-4c7e-ae39-eb81833d8040",
   "metadata": {},
   "source": [
    "Set up the arrays to be empty, then modify the equation to correctly convert wavelength to energies per mol of photons."
   ]
  },
  {
   "cell_type": "code",
   "execution_count": 18,
   "id": "c1730beb-1b1f-47ef-b3ae-d811a99aa6c0",
   "metadata": {},
   "outputs": [],
   "source": [
    "wavelengths = [] # Need to reset the array to be empty\n",
    "energies_kJ_mol = []\n",
    "# Convert wavelength to kJ/mol\n",
    "for value in data: \n",
    "    wavelength = float(value)\n",
    "    wavelengths.append(wavelength)\n",
    "    # set up the equation to convert wavelengths to frequency (also wavelength nm to m!), below is just a placeholder\n",
    "    energy_kJ_mol = wavelength \n",
    "    energies_kJ_mol.append(energy_kJ_mol) "
   ]
  },
  {
   "cell_type": "code",
   "execution_count": 19,
   "id": "b6fc75dd-e8dd-4f48-9eca-44f3b39ebf51",
   "metadata": {},
   "outputs": [
    {
     "name": "stdout",
     "output_type": "stream",
     "text": [
      "Wavelength(nm), E mol photons(kJ/mol)\n",
      "    670.00,     670.00\n",
      "    590.00,     590.00\n",
      "    820.00,     820.00\n"
     ]
    }
   ],
   "source": [
    "#print(wavelengths)\n",
    "#print(energies_kJ_mol)\n",
    "print(\"Wavelength(nm), E mol photons(kJ/mol)\")\n",
    "for i in range(0,len(wavelengths)):\n",
    "    print(\"%10.2f, %10.2f\" % (wavelengths[i], energies_kJ_mol[i]))"
   ]
  },
  {
   "cell_type": "code",
   "execution_count": null,
   "id": "8a59d562-787e-4304-ba82-8c830570e1f2",
   "metadata": {},
   "outputs": [],
   "source": []
  }
 ],
 "metadata": {
  "kernelspec": {
   "display_name": "Python 3 (ipykernel)",
   "language": "python",
   "name": "python3"
  },
  "language_info": {
   "codemirror_mode": {
    "name": "ipython",
    "version": 3
   },
   "file_extension": ".py",
   "mimetype": "text/x-python",
   "name": "python",
   "nbconvert_exporter": "python",
   "pygments_lexer": "ipython3",
   "version": "3.11.8"
  }
 },
 "nbformat": 4,
 "nbformat_minor": 5
}
