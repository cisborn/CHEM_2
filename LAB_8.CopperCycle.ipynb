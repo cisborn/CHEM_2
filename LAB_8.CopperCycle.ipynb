{
 "cells": [
  {
   "cell_type": "markdown",
   "id": "b0a02983-e239-4d7e-8386-fe7b17aa770e",
   "metadata": {},
   "source": [
    "# Lab 8: Copper cycle lab"
   ]
  },
  {
   "cell_type": "markdown",
   "id": "13c35bcb-af98-4daf-b2ad-9e3b15a9b6e9",
   "metadata": {},
   "source": [
    "In this lab, you will explore various reactions of copper, where the reactions could be redox, acid/base, or\n",
    "precipitation reactions.  The main part of your post-lab is writing down balanced net ionic equations and classifying their type. The only calculation needed is to determine the percent recovery of copper in your final step.  This is a pretty easy calculation to do, and you certainly don't need to write any code to help you.  However, in case you want to practice using python at all, you can use this simple notebook. "
   ]
  },
  {
   "cell_type": "markdown",
   "id": "1eace221-0214-4d14-a327-0b469b7b2dbb",
   "metadata": {},
   "source": [
    "You will need to record two values from your notebook, the initial mass of the copper wire and the final mass of copper powder from the last step, in grams. Replace the values below with your values, recording to the nearest  milligram, i.e. 0.001 g"
   ]
  },
  {
   "cell_type": "code",
   "execution_count": 1,
   "id": "eb672360-4973-4730-b9c8-631f80ab5fcd",
   "metadata": {},
   "outputs": [],
   "source": [
    "initial_mass = 0.501\n",
    "final_mass = 0.358"
   ]
  },
  {
   "cell_type": "markdown",
   "id": "6b9ae817-f3dc-49e4-a330-caccc0be6d5f",
   "metadata": {},
   "source": [
    "Think about if your values make sense. Is the final mass less than the initial mass? If so, now you are ready to do a little math.  If the two values were the same, you would have 100% recovery. Your value should be less than 100%. "
   ]
  },
  {
   "cell_type": "markdown",
   "id": "8d14bb18-1c94-4599-89f3-7e3960236bad",
   "metadata": {},
   "source": [
    "To determine a percent recovery, just divide your recovered mass by your initial mass, and multiply by 100. "
   ]
  },
  {
   "cell_type": "code",
   "execution_count": 2,
   "id": "90e97196-38ab-4f75-8535-f4372056fcb5",
   "metadata": {},
   "outputs": [
    {
     "name": "stdout",
     "output_type": "stream",
     "text": [
      "71.45708582834331\n"
     ]
    }
   ],
   "source": [
    "percent_recovery = ( final_mass / initial_mass) * 100\n",
    "print (percent_recovery)"
   ]
  },
  {
   "cell_type": "markdown",
   "id": "a8e29580-0bc2-44de-8443-b418f2b38998",
   "metadata": {},
   "source": [
    "Think about if your value makes sense as a percentage - is it between 0 and 100?  You don't need to keep all the significant figures here - how many should you have based on the masses you recorded? Record your value with correct number of sig figs. "
   ]
  },
  {
   "cell_type": "code",
   "execution_count": null,
   "id": "210ed992-2432-4bfa-ae0b-90eef94f85bf",
   "metadata": {},
   "outputs": [],
   "source": []
  }
 ],
 "metadata": {
  "kernelspec": {
   "display_name": "Python 3 (ipykernel)",
   "language": "python",
   "name": "python3"
  },
  "language_info": {
   "codemirror_mode": {
    "name": "ipython",
    "version": 3
   },
   "file_extension": ".py",
   "mimetype": "text/x-python",
   "name": "python",
   "nbconvert_exporter": "python",
   "pygments_lexer": "ipython3",
   "version": "3.11.8"
  }
 },
 "nbformat": 4,
 "nbformat_minor": 5
}
