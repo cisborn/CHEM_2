{
 "cells": [
  {
   "cell_type": "markdown",
   "id": "71ee0f7f-fc15-4c5b-b01c-cb2b675f3753",
   "metadata": {},
   "source": [
    "# Lab 6: Synthesis of Alum"
   ]
  },
  {
   "cell_type": "markdown",
   "id": "f746964e-e14f-4f37-b9b5-feb2e22370ba",
   "metadata": {},
   "source": [
    "In this lab, you will use a series of reactions to synthesize potassium aluminum sulfate dodecahydrate (alum) from aluminum, learning some filtration techniques in the process. Some of the hard work is done in the pre-lab, where you will determine how to adapt and scale the procedure to acheive a theoretical yield of 15.0 g of alum, figuring what initial mass of aluminum you will need to measure out in the lab. The only calculation to do at the end of the lab is the percent yield based on the limiting reagent; your limiting reagent in this experiment is the initial aluminum metal. This is a pretty easy calculation to do, and you certainly don't need to write any code to help you.  However, in case you want to practice using python at all, you can use this simple notebook.  "
   ]
  },
  {
   "cell_type": "markdown",
   "id": "2258dfd2-4b12-4a8a-bdd8-00f26c36511d",
   "metadata": {},
   "source": [
    "You will need to record two values from your notebook, the initial mass of the aluminum and the final mass of alum from the last step, in grams. Replace the values below with your values, recording to the nearest milligram, i.e. 0.001 g"
   ]
  },
  {
   "cell_type": "code",
   "execution_count": 2,
   "id": "5da11a48-775c-43e3-abcb-8a6c7a57413f",
   "metadata": {},
   "outputs": [],
   "source": [
    "initial_mass_aluminum = 0.855\n",
    "final_mass_alum = 13.987 "
   ]
  },
  {
   "cell_type": "markdown",
   "id": "78d5038a-a4d5-4c89-97d9-becc1d563ee3",
   "metadata": {},
   "source": [
    "Next, you will follow the scaling from your pre-lab to determine the theoretical yield of alum based on the actual initial mass of aluminum that you measured in the lab. You will need the molar mass of aluminum and the molar mass of the alum. These values are given below. "
   ]
  },
  {
   "cell_type": "code",
   "execution_count": 3,
   "id": "ea654892-924b-4651-89c9-58271a52bd26",
   "metadata": {},
   "outputs": [],
   "source": [
    "molar_mass_aluminum = 26.98\n",
    "molar_mass_alum = 474.412"
   ]
  },
  {
   "cell_type": "markdown",
   "id": "c0f28274-f904-47ea-8bfe-05f3bec43aa7",
   "metadata": {},
   "source": [
    "Now let's do the conversion like you did in your pre-lab. To calculate your theoretical yield of alum, you will need to multiply your measured mass of aluminum by:  $$  \\bigg(\\frac{1 mol Al}{26.98 g}\\bigg)\\bigg(\\frac{1 mol KAl(SO_4)_2\\times 12 H_2O}{1 mol Al}\\bigg)\\bigg(\\frac{474.412g}{1 mol KAl(SO_4)_2\\times 12 H_2O}\\bigg)$$"
   ]
  },
  {
   "cell_type": "code",
   "execution_count": 4,
   "id": "68070c56-bd03-4796-a699-e90208ff9811",
   "metadata": {},
   "outputs": [
    {
     "name": "stdout",
     "output_type": "stream",
     "text": [
      "15.034183098591548\n"
     ]
    }
   ],
   "source": [
    "theoretical_yield_alum = initial_mass_aluminum * (1/26.98) * (1/1) * (474.412/1) \n",
    "print (theoretical_yield_alum)"
   ]
  },
  {
   "cell_type": "markdown",
   "id": "d920e84a-9cd7-432f-b87b-b3b93a0557b5",
   "metadata": {},
   "source": [
    "Think about if your value makes sense based on what you did in your pre-lab.  This is the maximum mass of alum that you could obtain if none of your aluminum were lost to your reaction steps.  Now you are ready to determine the percent yield that you obtained. To determine a percent yield, just divide the yield (mass) you obtained in your experiment by the theoretical yield you computed, and then multiply by 100 to make it a percentage. "
   ]
  },
  {
   "cell_type": "code",
   "execution_count": 5,
   "id": "2d07733e-17e7-460e-a2d8-d0ed6e272fcf",
   "metadata": {},
   "outputs": [
    {
     "name": "stdout",
     "output_type": "stream",
     "text": [
      "93.03465248677428\n"
     ]
    }
   ],
   "source": [
    "percent_yield = ( final_mass_alum / theoretical_yield_alum) * 100\n",
    "print (percent_yield)"
   ]
  },
  {
   "cell_type": "markdown",
   "id": "b7676328-18f1-4980-bb7f-f47b9d5f9d8b",
   "metadata": {},
   "source": [
    "Think about if your value makes sense. If the value is below 80\\%, how might some of the aluminum been lost in the various steps of your reaction? "
   ]
  },
  {
   "cell_type": "code",
   "execution_count": null,
   "id": "3ab4c785-df86-4baa-955f-7aa8a4ef5d96",
   "metadata": {},
   "outputs": [],
   "source": []
  }
 ],
 "metadata": {
  "kernelspec": {
   "display_name": "Python 3 (ipykernel)",
   "language": "python",
   "name": "python3"
  },
  "language_info": {
   "codemirror_mode": {
    "name": "ipython",
    "version": 3
   },
   "file_extension": ".py",
   "mimetype": "text/x-python",
   "name": "python",
   "nbconvert_exporter": "python",
   "pygments_lexer": "ipython3",
   "version": "3.11.8"
  }
 },
 "nbformat": 4,
 "nbformat_minor": 5
}
