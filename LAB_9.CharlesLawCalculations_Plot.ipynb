{
 "cells": [
  {
   "cell_type": "markdown",
   "id": "2feb0d5d-e87e-45ac-95d5-5ab5889d940a",
   "metadata": {},
   "source": [
    "# Lab 9: Determining a value for absolute zero using Charles' Law for the relationship between temperature and volume"
   ]
  },
  {
   "cell_type": "markdown",
   "id": "3c83af0f-0636-4047-8f9f-652f28be1dd3",
   "metadata": {},
   "source": [
    "In this lab you will obtain three temperature-pressure-volume data points (at boiling, room temperature, and close to freezing), then will determine the volume based on the pressure with Boyle's Law, then use linear regression to obtain a best fit line to this data. You will then use that equation of the line to extrapolate to the zero volume value to obtain the temperature (in degrees C) for absolute zero. This python code requires some of the values that you measured in lab for the calculations, and also will read in the temperatures and pressures from a text file named 'LAB_9.CharlesLaw_Temp_Pressures.txt'. There is a file with some sample values provided, but you need to edit the text file to replace those values with those that you measured in lab. The file should have three columns of data, each with three values: Temperature(degreesC) Pressure(mmHg) Volume_water_in_flask(mL). List the hot water values first. For the boiling water data, the Volume_water_in_flask should be set to 0.0.  Note that the vapor pressure values will be determined from the appendix from the corresponding temperatures.  "
   ]
  },
  {
   "cell_type": "markdown",
   "id": "45830c8d-e331-409e-a91e-d8088b01904e",
   "metadata": {},
   "source": [
    "First, load some of the python libraries. "
   ]
  },
  {
   "cell_type": "code",
   "execution_count": 2,
   "id": "c158a54d-72e2-4ff5-8117-ec2c2207b0e5",
   "metadata": {},
   "outputs": [],
   "source": [
    "import numpy\n",
    "import scipy\n",
    "import matplotlib.pyplot as plt\n",
    "from scipy import stats"
   ]
  },
  {
   "cell_type": "markdown",
   "id": "c9a81bec-292d-4940-838d-2d58f2a8ce94",
   "metadata": {},
   "source": [
    "Next, set up the values for total barometric pressure (mmHg) measured during lab, the humidity measured during lab, and the volume of the flask measured during lab. Replace the values below with your measured values. "
   ]
  },
  {
   "cell_type": "code",
   "execution_count": 3,
   "id": "663042da-defb-478d-8664-cff7f9e8a326",
   "metadata": {},
   "outputs": [],
   "source": [
    "# In lab measurements we need for our calculations\n",
    "P_total = 755.65 # Total Barometric pressure in mmHg measured during lab\n",
    "humidity = 0.83  # Humidity measured during lab, unitless \n",
    "flask_volume = 149.1   # Volume of flask measured in mL"
   ]
  },
  {
   "cell_type": "markdown",
   "id": "423eb6e0-2137-4e55-b3d8-dedbd21a950d",
   "metadata": {},
   "source": [
    "Next, set up some empty arrays that we will populate. "
   ]
  },
  {
   "cell_type": "code",
   "execution_count": 16,
   "id": "9f7f9551-5633-4407-92ba-657b85412276",
   "metadata": {},
   "outputs": [],
   "source": [
    "# Set up empty arrays for the data from the text file\n",
    "temperature = []\n",
    "volume_in_flask = []\n",
    "pressure_exp = [] \n",
    "volume_dry = []\n"
   ]
  },
  {
   "cell_type": "markdown",
   "id": "01fb9f6c-8f30-47ae-a454-02f1ad1236d3",
   "metadata": {},
   "source": [
    "Next, read in the data from the text file, 'LAB_9.CharlesLaw_Temp_Pressures.txt'. The code is set up to read in data delimited (separated) by spaces, but depending on how you enter your data, you can change this to be tab (\\t) or comma delimited. "
   ]
  },
  {
   "cell_type": "code",
   "execution_count": 17,
   "id": "d36df679-8311-41f3-bd23-309090924c5a",
   "metadata": {},
   "outputs": [],
   "source": [
    "# Read in the data from the txt file, but skip the header on the first line \n",
    "# The output of this function is a list of lists; that is, each row is a entry in our list, but each row is itself a list of values. \n",
    "CharlesLaw_file = ('LAB_9.CharlesLaw_Temp_Pressures.txt')  \n",
    "values = numpy.genfromtxt(fname=CharlesLaw_file, skip_header=1, delimiter=' ', dtype='unicode')\n",
    "#print(values)\n"
   ]
  },
  {
   "cell_type": "markdown",
   "id": "f0972fe8-0556-4ef8-8180-c9b22373f489",
   "metadata": {},
   "source": [
    "Next, we will load the values from the text file into the arrays.  The hot water pressure value, which should be first value in the list, needs to be multiplied by the humidity. "
   ]
  },
  {
   "cell_type": "code",
   "execution_count": 18,
   "id": "0a77b8c7-79e9-41e9-bc97-62245d941ad0",
   "metadata": {},
   "outputs": [],
   "source": [
    "for i in range(0, len(values)):\n",
    "    #print(i)\n",
    "    #print(values[i,0])\n",
    "    temperature.append(float(values[i,0])); \n",
    "    volume_in_flask.append(float(values[i,2]));\n",
    "    if i == 0: # Hot water, needs to be multiplied by Humidity value\n",
    "        pressure_exp.append(float(values[i,1])*humidity); \n",
    "    else:    \n",
    "        pressure_exp.append(float(values[i,1])); "
   ]
  },
  {
   "cell_type": "markdown",
   "id": "32461414-54b3-4f2f-a2a6-eabea0cba623",
   "metadata": {},
   "source": [
    "Let's print everything out to check that it was read into the arrays correctly. "
   ]
  },
  {
   "cell_type": "code",
   "execution_count": 19,
   "id": "f8bbf213-2062-4067-9d65-a2634c9db902",
   "metadata": {},
   "outputs": [
    {
     "name": "stdout",
     "output_type": "stream",
     "text": [
      "Recorded temperatures (degrees C): [101.0, 30.3, 5.0]\n",
      "Water Pressure (mm Hg): [26.394, 31.8, 6.5]\n",
      "Volume in flask (mL): [0.0, 28.4, 42.17]\n"
     ]
    }
   ],
   "source": [
    "\n",
    "print(\"Recorded temperatures (degrees C):\", temperature)\n",
    "print(\"Water Pressure (mm Hg):\",pressure_exp)\n",
    "print(\"Volume in flask (mL):\", volume_in_flask)"
   ]
  },
  {
   "cell_type": "markdown",
   "id": "3f451892-cb2f-421b-b61b-5dcbbd34f883",
   "metadata": {},
   "source": [
    "Now, we can use the appropriate equation from the lab (Boyle's Law) to relate the pressure to the dry volume, $V_{dry}$ = $V_{total}$ $\\frac{P_{total}-P_{H2O}}{P_{total}}$. \n",
    "\n",
    "Here, $P_{total}$ is the barometric pressure measured in lab. "
   ]
  },
  {
   "cell_type": "code",
   "execution_count": 1,
   "id": "e0559ecf-2b9a-4138-970c-545837386c48",
   "metadata": {},
   "outputs": [
    {
     "ename": "NameError",
     "evalue": "name 'temperature' is not defined",
     "output_type": "error",
     "traceback": [
      "\u001b[0;31m---------------------------------------------------------------------------\u001b[0m",
      "\u001b[0;31mNameError\u001b[0m                                 Traceback (most recent call last)",
      "Cell \u001b[0;32mIn[1], line 2\u001b[0m\n\u001b[1;32m      1\u001b[0m \u001b[38;5;66;03m# Use appropriate equation to compute the dry volume\u001b[39;00m\n\u001b[0;32m----> 2\u001b[0m \u001b[38;5;28;01mfor\u001b[39;00m i \u001b[38;5;129;01min\u001b[39;00m \u001b[38;5;28mrange\u001b[39m(\u001b[38;5;241m0\u001b[39m, \u001b[38;5;28mlen\u001b[39m(\u001b[43mtemperature\u001b[49m)):\n\u001b[1;32m      3\u001b[0m     v_dry \u001b[38;5;241m=\u001b[39m (flask_volume \u001b[38;5;241m-\u001b[39m volume_in_flask[i]) \u001b[38;5;241m*\u001b[39m (P_total \u001b[38;5;241m-\u001b[39m pressure_exp[i]) \u001b[38;5;241m/\u001b[39m P_total\n\u001b[1;32m      4\u001b[0m     \u001b[38;5;66;03m#print(v_dry)\u001b[39;00m\n",
      "\u001b[0;31mNameError\u001b[0m: name 'temperature' is not defined"
     ]
    }
   ],
   "source": [
    "# Use appropriate equation to compute the dry volume\n",
    "for i in range(0, len(temperature)):\n",
    "    v_dry = (flask_volume - volume_in_flask[i]) * (P_total - pressure_exp[i]) / P_total\n",
    "    #print(v_dry)\n",
    "    volume_dry.append(v_dry);\n",
    "\n",
    "print(\"Dry Volume (mL):\", volume_dry)"
   ]
  },
  {
   "cell_type": "markdown",
   "id": "95bc20ff-c182-48ce-86ee-a6fb1746a0d8",
   "metadata": {},
   "source": [
    "Now that we have the dry volume data (y-axis), we can compute the best fit with our temperature data (x-axis). This is done with linear regression in the stats package, and will generate a slope, intercept, and rvalue from a linear regression fit. "
   ]
  },
  {
   "cell_type": "code",
   "execution_count": 11,
   "id": "2b81c451-33a5-497f-af52-bf167ee3015c",
   "metadata": {},
   "outputs": [
    {
     "name": "stdout",
     "output_type": "stream",
     "text": [
      "\n",
      "Determining best fit line... \n",
      "\n",
      "R-squared: 0.999889\n",
      "Slope: 3.957434e-01\n",
      "intercept: 1.038610e+02\n"
     ]
    }
   ],
   "source": [
    "print(\"\\nDetermining best fit line... \\n\")\n",
    "# Use linear regression to determine the best fit line\n",
    "fit = stats.linregress(temperature, volume_dry)\n",
    "print(f\"R-squared: {fit.rvalue**2:.6f}\")\n",
    "print(f\"Slope: {fit.slope:.6e}\")\n",
    "print(f\"intercept: {fit.intercept:.6e}\")\n",
    "R_text = f\"R^2 = {fit.rvalue:.4f}\"\n",
    "eqn_text = f\"y = {fit.slope:.4f} x + {fit.intercept:.4f}\""
   ]
  },
  {
   "cell_type": "markdown",
   "id": "35333ab4-cd21-4575-926c-bc2746526e33",
   "metadata": {},
   "source": [
    "Now we can use this best fit line to extrapolate to zero temperature when the volume is zero. "
   ]
  },
  {
   "cell_type": "code",
   "execution_count": 12,
   "id": "56e213a9-3461-43a7-bc17-8e3c3958b55a",
   "metadata": {},
   "outputs": [
    {
     "name": "stdout",
     "output_type": "stream",
     "text": [
      "\n",
      " Use best fit equation to extrapolate absolute zero temp when volume is zero... \n",
      "\n",
      "Extrapolated zero temperature in degrees C: -262.445374\n"
     ]
    }
   ],
   "source": [
    "# Use equation to determine temp when volume is zero\n",
    "print(\"\\n Use best fit equation to extrapolate absolute zero temp when volume is zero... \\n\")\n",
    "extrapolated_zero_temp = -fit.intercept / fit.slope\n",
    "print(f\"Extrapolated zero temperature in degrees C: {extrapolated_zero_temp:.6f}\")"
   ]
  },
  {
   "cell_type": "markdown",
   "id": "ed1c9518-135a-4518-b21c-08a2f7a390fb",
   "metadata": {},
   "source": [
    "Now we will plot the temperature and dry volume data. "
   ]
  },
  {
   "cell_type": "code",
   "execution_count": 13,
   "id": "3e77f70a-66a5-40c0-be2e-6ebaf59877ef",
   "metadata": {},
   "outputs": [
    {
     "data": {
      "text/plain": [
       "(-300.0, 110.0)"
      ]
     },
     "execution_count": 13,
     "metadata": {},
     "output_type": "execute_result"
    },
    {
     "data": {
      "image/png": "[encoded data removed]",
      "text/plain": [
       "<Figure size 640x480 with 1 Axes>"
      ]
     },
     "metadata": {},
     "output_type": "display_data"
    }
   ],
   "source": [
    "# Plot your data\n",
    "# Change the text to represent the proper x and y axes values, and change the title\n",
    "plt.figure()\n",
    "plt.xlabel('Temperature (degrees C)')\n",
    "plt.ylabel('Volume Dry (mL)')\n",
    "plt.title(\"Relationship between Temperature and Volume\")\n",
    "plt.plot(temperature, volume_dry, 'o', label='measured data')\n",
    "plt.ylim(-10, 180)\n",
    "plt.xlim(-300, 110)"
   ]
  },
  {
   "cell_type": "markdown",
   "id": "d07780c1-284a-4825-b156-732979289564",
   "metadata": {},
   "source": [
    "Now we determine the fit values from our equation of the line so that we can add them to the graph. "
   ]
  },
  {
   "cell_type": "code",
   "execution_count": 14,
   "id": "0792dc04-063d-4362-95c9-da9903b626f3",
   "metadata": {},
   "outputs": [],
   "source": [
    "# Use slope from the fit to determine the fitted values for the plot\n",
    "fit_volume_dry = []\n",
    "extrapolated_temperature = numpy.insert(temperature, 0, extrapolated_zero_temp)\n",
    "#print(extrapolated_temperature)\n",
    "for value in extrapolated_temperature:\n",
    "    fit_volume = fit.slope * value + fit.intercept\n",
    "    fit_volume_dry.append(fit_volume)"
   ]
  },
  {
   "cell_type": "markdown",
   "id": "f687ebc6-d901-4b33-990e-eda28d3845e9",
   "metadata": {},
   "source": [
    "Now we will add this to the plot. "
   ]
  },
  {
   "cell_type": "code",
   "execution_count": 15,
   "id": "41080a4e-aaa7-4f51-9328-d0b794218d44",
   "metadata": {},
   "outputs": [
    {
     "data": {
      "image/png": "[encoded data removed]",
      "text/plain": [
       "<Figure size 640x480 with 1 Axes>"
      ]
     },
     "metadata": {},
     "output_type": "display_data"
    }
   ],
   "source": [
    "\n",
    "plt.figure()\n",
    "plt.xlabel('Temperature (degrees C)')\n",
    "plt.ylabel('Volume Dry (mL)')\n",
    "plt.title(\"Relationship between Temperature and Volume\")\n",
    "plt.plot(temperature, volume_dry, 'o', label='measured data') \n",
    "plt.ylim(-10, 180)  # set up the limits for the x and y axes\n",
    "plt.xlim(-300, 110)\n",
    "plt.plot(extrapolated_temperature,fit_volume_dry, '-', label='best fit line')\n",
    "plt.legend()\n",
    "#adding text inside the plot\n",
    "plt.figtext(0.6, 0.25, eqn_text)  # Place the equation text where you want it\n",
    "plt.figtext(0.6, 0.3, R_text)\n",
    "#plt.show()\n",
    "plt.savefig('LAB_9.Charles_Law.png')\n",
    "\n",
    "\n"
   ]
  },
  {
   "cell_type": "code",
   "execution_count": null,
   "id": "b77125bb-7dc3-4331-8c09-651b26379dbd",
   "metadata": {},
   "outputs": [],
   "source": []
  },
  {
   "cell_type": "code",
   "execution_count": null,
   "id": "be32bc9e-64a0-435a-a032-3c88aa671a03",
   "metadata": {},
   "outputs": [],
   "source": []
  },
  {
   "cell_type": "code",
   "execution_count": null,
   "id": "c0079588-c685-4abb-a43d-4cd4162e55e7",
   "metadata": {},
   "outputs": [],
   "source": []
  },
  {
   "cell_type": "code",
   "execution_count": null,
   "id": "ed8ede22-f267-4275-966f-94cdc10fda27",
   "metadata": {},
   "outputs": [],
   "source": []
  }
 ],
 "metadata": {
  "kernelspec": {
   "display_name": "Python 3 (ipykernel)",
   "language": "python",
   "name": "python3"
  },
  "language_info": {
   "codemirror_mode": {
    "name": "ipython",
    "version": 3
   },
   "file_extension": ".py",
   "mimetype": "text/x-python",
   "name": "python",
   "nbconvert_exporter": "python",
   "pygments_lexer": "ipython3",
   "version": "3.11.8"
  }
 },
 "nbformat": 4,
 "nbformat_minor": 5
}
