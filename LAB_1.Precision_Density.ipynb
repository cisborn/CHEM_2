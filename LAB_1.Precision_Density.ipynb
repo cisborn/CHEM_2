{
 "cells": [
  {
   "cell_type": "markdown",
   "id": "18f42d7b-829d-4370-9352-8a98dc1db8a7",
   "metadata": {},
   "source": [
    "# Lab 1: Precision and Density"
   ]
  },
  {
   "cell_type": "markdown",
   "id": "bac8f303-4260-43c0-8260-bf67af003340",
   "metadata": {},
   "source": [
    "In this lab, you will making mass measurements and then computing averages and standard deviations. This are pretty easy calculations to do, and you certainly don't need to write any code to help you.  However, in case you want to practice using python at all, you can use this simple notebook. "
   ]
  },
  {
   "cell_type": "markdown",
   "id": "0a57cdb0-02ab-4d28-8411-3923676fac6a",
   "metadata": {},
   "source": [
    "First, load some of the python libraries. We don't need these, but we can use them if we want. "
   ]
  },
  {
   "cell_type": "code",
   "execution_count": 22,
   "id": "7673556e-e3b1-44de-a43f-9e079e125b34",
   "metadata": {},
   "outputs": [],
   "source": [
    "import statistics\n",
    "import math\n",
    "import numpy"
   ]
  },
  {
   "cell_type": "markdown",
   "id": "0406e59a-fa83-431b-b5e4-9905ca6d5edd",
   "metadata": {},
   "source": [
    "Record the masses measured below in an array, using the correct number of significant figures. The values here are place holders. Replace them with your measured values.  "
   ]
  },
  {
   "cell_type": "code",
   "execution_count": 2,
   "id": "6d872695-aa9e-4207-aee4-50943250fdcf",
   "metadata": {},
   "outputs": [
    {
     "name": "stdout",
     "output_type": "stream",
     "text": [
      "[10.545, 10.575, 10.555]\n"
     ]
    }
   ],
   "source": [
    "masses = [10.545, 10.575, 10.555]\n",
    "print(masses)"
   ]
  },
  {
   "cell_type": "markdown",
   "id": "16aa2426-ae38-4a32-a742-a3488fd92489",
   "metadata": {},
   "source": [
    "Now you are ready to compute the average of $N$ values. \n",
    "\n",
    "$$\\bar{\\omega} = \\frac{1}{N}\\Sigma^N_{i=1}\\omega_i $$\n",
    "\n",
    "This will require first the sum, then dividing by the number of measurements $N$. First compute the sum of your array and print out the value. Then, determine the number of measurements with the length of the array. "
   ]
  },
  {
   "cell_type": "code",
   "execution_count": 3,
   "id": "63d6c0a8-6e9e-49ab-91a7-91988c5d74e2",
   "metadata": {},
   "outputs": [
    {
     "name": "stdout",
     "output_type": "stream",
     "text": [
      "31.674999999999997\n"
     ]
    }
   ],
   "source": [
    "sum_of_masses = sum(masses)\n",
    "print(sum_of_masses)"
   ]
  },
  {
   "cell_type": "code",
   "execution_count": 4,
   "id": "308f9473-5abf-42d3-baf9-6d0567643037",
   "metadata": {},
   "outputs": [
    {
     "name": "stdout",
     "output_type": "stream",
     "text": [
      "3\n"
     ]
    }
   ],
   "source": [
    "number_of_measurements = len(masses)\n",
    "print(number_of_measurements)"
   ]
  },
  {
   "cell_type": "markdown",
   "id": "039b9c5f-a56c-4c7b-a0e1-da21fb123569",
   "metadata": {},
   "source": [
    "Now, determine the average: "
   ]
  },
  {
   "cell_type": "code",
   "execution_count": 6,
   "id": "bab9b5dc-30d6-4dc1-9a30-5a3fb4ed6b40",
   "metadata": {},
   "outputs": [
    {
     "name": "stdout",
     "output_type": "stream",
     "text": [
      "10.558333333333332\n"
     ]
    }
   ],
   "source": [
    "average = sum_of_masses / number_of_measurements\n",
    "print(average)"
   ]
  },
  {
   "cell_type": "markdown",
   "id": "c5954a31-8a74-4d38-ae87-11404f27891a",
   "metadata": {},
   "source": [
    "You can compare your answer to values that are computed by the python libraries.  "
   ]
  },
  {
   "cell_type": "code",
   "execution_count": 12,
   "id": "9ac2f5e5-a2ca-4a15-851c-ee1c17b80b01",
   "metadata": {},
   "outputs": [
    {
     "name": "stdout",
     "output_type": "stream",
     "text": [
      "10.558333333333334\n"
     ]
    }
   ],
   "source": [
    "stats_average = statistics.mean(masses)\n",
    "print(stats_average)"
   ]
  },
  {
   "cell_type": "code",
   "execution_count": 13,
   "id": "032084b4-7f66-49aa-bd1a-6201500cc713",
   "metadata": {},
   "outputs": [
    {
     "name": "stdout",
     "output_type": "stream",
     "text": [
      "10.558333333333332\n"
     ]
    }
   ],
   "source": [
    "numpy_average = numpy.mean(masses)\n",
    "print(numpy_average)"
   ]
  },
  {
   "cell_type": "markdown",
   "id": "fc5f0aed-7741-4935-9031-e941d47ae36a",
   "metadata": {},
   "source": [
    "Next, we can compute the standard deviation to better quantify the precision of our measurements. \n",
    "$$\\sigma = \\sqrt(\\Sigma^N_{i=1}(\\omega_i - \\bar\\omega)^2/N)$$\n",
    "\n",
    "First let's compute the numerator that will go into the square root. We can loop over the values in the array. "
   ]
  },
  {
   "cell_type": "code",
   "execution_count": 20,
   "id": "a3e99ede-d5cf-4196-b234-ef9de414406a",
   "metadata": {},
   "outputs": [
    {
     "name": "stdout",
     "output_type": "stream",
     "text": [
      "0\n",
      "10.545\n",
      "0.00017777777777773862\n",
      "1\n",
      "10.575\n",
      "0.0002777777777778054\n",
      "2\n",
      "10.555\n",
      "1.1111111111102743e-05\n",
      "0.00046666666666664677\n"
     ]
    }
   ],
   "source": [
    "numerator = 0.0\n",
    "for i in range(0, len(masses)):\n",
    "    print(i) \n",
    "    print(masses[i])\n",
    "    print((masses[i]-average)**2)\n",
    "    numerator = numerator + (masses[i]-average)**2\n",
    "print(numerator)"
   ]
  },
  {
   "cell_type": "code",
   "execution_count": 26,
   "id": "059472f8-0e0a-44cc-b441-773a54bff403",
   "metadata": {},
   "outputs": [
    {
     "name": "stdout",
     "output_type": "stream",
     "text": [
      "0.012472191289246206\n"
     ]
    }
   ],
   "source": [
    "sigma = math.sqrt((numerator)/(number_of_measurements))\n",
    "print(sigma)"
   ]
  },
  {
   "cell_type": "code",
   "execution_count": null,
   "id": "982db7ee-8617-45cd-90b1-6ee8762c0fb6",
   "metadata": {},
   "outputs": [],
   "source": [
    "Now, you can compare your computed answer to "
   ]
  },
  {
   "cell_type": "code",
   "execution_count": 27,
   "id": "6ddb74b5-7aa3-4527-8d9f-0a70a7215785",
   "metadata": {},
   "outputs": [
    {
     "name": "stdout",
     "output_type": "stream",
     "text": [
      "0.01527525231651914\n"
     ]
    }
   ],
   "source": [
    "statistics_sigma = statistics.stdev(masses)\n",
    "print(statistics_sigma)"
   ]
  },
  {
   "cell_type": "code",
   "execution_count": 28,
   "id": "55f36b83-8799-48be-85b5-386cd511d6d4",
   "metadata": {},
   "outputs": [
    {
     "name": "stdout",
     "output_type": "stream",
     "text": [
      "0.012472191289246206\n"
     ]
    }
   ],
   "source": [
    "numpy_sigma = numpy.std(masses)\n",
    "print(numpy_sigma)"
   ]
  },
  {
   "cell_type": "markdown",
   "id": "e01fd2c2-2850-44d6-bc62-d12d1b302fbc",
   "metadata": {},
   "source": [
    "Do the answers match? They shouldn't! There are different definitions of standard deviation, one that divides by $N$ and one by $N-1$. Which is used by numpy.std? Which is used by statistics.stdev? When you take a statistics course, you might run into this and have to learn about how to estimate standard deviations from samples of data. "
   ]
  },
  {
   "cell_type": "code",
   "execution_count": null,
   "id": "636cc36a-6454-4edb-91d8-99f724682922",
   "metadata": {},
   "outputs": [],
   "source": []
  }
 ],
 "metadata": {
  "kernelspec": {
   "display_name": "Python 3 (ipykernel)",
   "language": "python",
   "name": "python3"
  },
  "language_info": {
   "codemirror_mode": {
    "name": "ipython",
    "version": 3
   },
   "file_extension": ".py",
   "mimetype": "text/x-python",
   "name": "python",
   "nbconvert_exporter": "python",
   "pygments_lexer": "ipython3",
   "version": "3.11.8"
  }
 },
 "nbformat": 4,
 "nbformat_minor": 5
}
